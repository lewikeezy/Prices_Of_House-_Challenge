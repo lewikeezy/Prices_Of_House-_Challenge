{
 "cells": [
  {
   "cell_type": "code",
   "execution_count": 2,
   "metadata": {},
   "outputs": [],
   "source": [
    "#importing  pandas library and reading the dataset as a daatframe\n",
    "import pandas as pd\n",
    "df = pd.read_csv('https://raw.githubusercontent.com/The-Gradient-Boost/datasets/master/Datasets/NigeriaHousingPrices/findnigprop.csv')"
   ]
  },
  {
   "cell_type": "markdown",
   "metadata": {},
   "source": [
    "From the above cell, the first thing done is importing the pandas library. \n",
    "Pandas library allows for a data set to be read from csv and returned as a dataframe (rows and columns). "
   ]
  },
  {
   "cell_type": "code",
   "execution_count": 4,
   "metadata": {},
   "outputs": [
    {
     "data": {
      "text/html": [
       "<div>\n",
       "<style scoped>\n",
       "    .dataframe tbody tr th:only-of-type {\n",
       "        vertical-align: middle;\n",
       "    }\n",
       "\n",
       "    .dataframe tbody tr th {\n",
       "        vertical-align: top;\n",
       "    }\n",
       "\n",
       "    .dataframe thead th {\n",
       "        text-align: right;\n",
       "    }\n",
       "</style>\n",
       "<table border=\"1\" class=\"dataframe\">\n",
       "  <thead>\n",
       "    <tr style=\"text-align: right;\">\n",
       "      <th></th>\n",
       "      <th>price</th>\n",
       "      <th>unit</th>\n",
       "      <th>location</th>\n",
       "      <th>bedrooms</th>\n",
       "      <th>baths</th>\n",
       "      <th>state</th>\n",
       "    </tr>\n",
       "  </thead>\n",
       "  <tbody>\n",
       "    <tr>\n",
       "      <th>0</th>\n",
       "      <td>₦2,620,000.00 Per Year</td>\n",
       "      <td>₦2,620,000.00 Per Year</td>\n",
       "      <td>, 7 obasa street, Oba-Akran, Ikeja, Lagos, Nig...</td>\n",
       "      <td>NaN</td>\n",
       "      <td>NaN</td>\n",
       "      <td>NaN</td>\n",
       "    </tr>\n",
       "    <tr>\n",
       "      <th>1</th>\n",
       "      <td>₦2,500,000.00</td>\n",
       "      <td>₦2,500,000.00</td>\n",
       "      <td>, Tudu wada, Karshi,, Karu, Nasaruwa, Nigeria</td>\n",
       "      <td>NaN</td>\n",
       "      <td>NaN</td>\n",
       "      <td>NaN</td>\n",
       "    </tr>\n",
       "    <tr>\n",
       "      <th>2</th>\n",
       "      <td>₦300,000.00</td>\n",
       "      <td>₦300,000.00</td>\n",
       "      <td>, ukeh, masaka, mararba, Karu, Nasaruwa, Nigeria</td>\n",
       "      <td>NaN</td>\n",
       "      <td>NaN</td>\n",
       "      <td>NaN</td>\n",
       "    </tr>\n",
       "    <tr>\n",
       "      <th>3</th>\n",
       "      <td>per month</td>\n",
       "      <td>per month</td>\n",
       "      <td>, World Trade Center Commercial Tower, Plot 11...</td>\n",
       "      <td>NaN</td>\n",
       "      <td>NaN</td>\n",
       "      <td>NaN</td>\n",
       "    </tr>\n",
       "    <tr>\n",
       "      <th>4</th>\n",
       "      <td></td>\n",
       "      <td></td>\n",
       "      <td>, World Trade Center, Plot 1113, Constitution ...</td>\n",
       "      <td>2.0</td>\n",
       "      <td>NaN</td>\n",
       "      <td>NaN</td>\n",
       "    </tr>\n",
       "    <tr>\n",
       "      <th>5</th>\n",
       "      <td></td>\n",
       "      <td></td>\n",
       "      <td>, World Trade Center, Plot 1113, Constitution ...</td>\n",
       "      <td>1.0</td>\n",
       "      <td>NaN</td>\n",
       "      <td>NaN</td>\n",
       "    </tr>\n",
       "    <tr>\n",
       "      <th>6</th>\n",
       "      <td></td>\n",
       "      <td></td>\n",
       "      <td>, World Trade Center, Plot 1113, Constitution ...</td>\n",
       "      <td>3.0</td>\n",
       "      <td>NaN</td>\n",
       "      <td>NaN</td>\n",
       "    </tr>\n",
       "    <tr>\n",
       "      <th>7</th>\n",
       "      <td></td>\n",
       "      <td></td>\n",
       "      <td>, 474, A0, Cadastral zone, Constitution Avenue...</td>\n",
       "      <td>NaN</td>\n",
       "      <td>NaN</td>\n",
       "      <td>NaN</td>\n",
       "    </tr>\n",
       "    <tr>\n",
       "      <th>8</th>\n",
       "      <td>₦33,000,000.00</td>\n",
       "      <td>₦33,000,000.00</td>\n",
       "      <td>, Alafia Bus stop, Badagry Express Way, Lagos,...</td>\n",
       "      <td>5.0</td>\n",
       "      <td>5f</td>\n",
       "      <td>NaN</td>\n",
       "    </tr>\n",
       "    <tr>\n",
       "      <th>9</th>\n",
       "      <td>₦30,000,000.00</td>\n",
       "      <td>₦30,000,000.00</td>\n",
       "      <td>, Alafia Bus stop, Badagry Express Way, Lagos,...</td>\n",
       "      <td>8.0</td>\n",
       "      <td>7f</td>\n",
       "      <td>NaN</td>\n",
       "    </tr>\n",
       "  </tbody>\n",
       "</table>\n",
       "</div>"
      ],
      "text/plain": [
       "                    price                    unit  \\\n",
       "0  ₦2,620,000.00 Per Year  ₦2,620,000.00 Per Year   \n",
       "1          ₦2,500,000.00           ₦2,500,000.00    \n",
       "2            ₦300,000.00             ₦300,000.00    \n",
       "3               per month               per month   \n",
       "4                                                   \n",
       "5                                                   \n",
       "6                                                   \n",
       "7                                                   \n",
       "8         ₦33,000,000.00          ₦33,000,000.00    \n",
       "9         ₦30,000,000.00          ₦30,000,000.00    \n",
       "\n",
       "                                            location  bedrooms baths  state  \n",
       "0  , 7 obasa street, Oba-Akran, Ikeja, Lagos, Nig...       NaN   NaN    NaN  \n",
       "1      , Tudu wada, Karshi,, Karu, Nasaruwa, Nigeria       NaN   NaN    NaN  \n",
       "2   , ukeh, masaka, mararba, Karu, Nasaruwa, Nigeria       NaN   NaN    NaN  \n",
       "3  , World Trade Center Commercial Tower, Plot 11...       NaN   NaN    NaN  \n",
       "4  , World Trade Center, Plot 1113, Constitution ...       2.0   NaN    NaN  \n",
       "5  , World Trade Center, Plot 1113, Constitution ...       1.0   NaN    NaN  \n",
       "6  , World Trade Center, Plot 1113, Constitution ...       3.0   NaN    NaN  \n",
       "7  , 474, A0, Cadastral zone, Constitution Avenue...       NaN   NaN    NaN  \n",
       "8  , Alafia Bus stop, Badagry Express Way, Lagos,...       5.0    5f    NaN  \n",
       "9  , Alafia Bus stop, Badagry Express Way, Lagos,...       8.0    7f    NaN  "
      ]
     },
     "execution_count": 4,
     "metadata": {},
     "output_type": "execute_result"
    }
   ],
   "source": [
    "#Displaying the first 10 rows of the dataframe\n",
    "df.head(10)"
   ]
  },
  {
   "cell_type": "markdown",
   "metadata": {},
   "source": [
    "The total number of columns may ne large running into hundreds or thousands,it s necsaary to limit the display so one can actually see the titles or what each collumn represent in the dataset and not feel overwhelmed by the sheer numbers of the number of cilumns.\n",
    "Here the top 10 rows are displayed above.\n",
    "We can deduce from here that they are 6 columns namely:\n",
    "1.Price\n",
    "2.unit\n",
    "3.location\n",
    "4.bedrooms\n",
    "5.baths\n",
    "6.state"
   ]
  },
  {
   "cell_type": "code",
   "execution_count": 4,
   "metadata": {},
   "outputs": [
    {
     "data": {
      "text/plain": [
       "price       False\n",
       "unit        False\n",
       "location    False\n",
       "bedrooms     True\n",
       "baths        True\n",
       "state        True\n",
       "dtype: bool"
      ]
     },
     "execution_count": 4,
     "metadata": {},
     "output_type": "execute_result"
    }
   ],
   "source": [
    "#cleaning the data\n",
    "df.isna().any()"
   ]
  },
  {
   "cell_type": "markdown",
   "metadata": {},
   "source": [
    "We can deduce from output above that there exist missing values or null values in at least 'price', 'units',  'bedrooms','baths' and state colums of our datasets\n",
    "On a closer analysis it is observed that ofor the columns: price, unit, bedrooms and baths,data is Missing at Random (MAR) whereas for 'state' coulmns, data is Xompletely Missing at Random (CMAR)"
   ]
  },
  {
   "cell_type": "code",
   "execution_count": 23,
   "metadata": {},
   "outputs": [],
   "source": [
    "#dealing with missing data\n"
   ]
  },
  {
   "cell_type": "markdown",
   "metadata": {},
   "source": []
  }
 ],
 "metadata": {
  "kernelspec": {
   "display_name": "Python 3",
   "language": "python",
   "name": "python3"
  },
  "language_info": {
   "codemirror_mode": {
    "name": "ipython",
    "version": 3
   },
   "file_extension": ".py",
   "mimetype": "text/x-python",
   "name": "python",
   "nbconvert_exporter": "python",
   "pygments_lexer": "ipython3",
   "version": "3.8.3"
  }
 },
 "nbformat": 4,
 "nbformat_minor": 4
}
